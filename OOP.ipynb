{
 "cells": [
  {
   "cell_type": "markdown",
   "metadata": {},
   "source": [
    "<h1>OOP in Python</h1>"
   ]
  },
  {
   "cell_type": "markdown",
   "metadata": {},
   "source": [
    "What is an Object?"
   ]
  },
  {
   "cell_type": "code",
   "execution_count": 5,
   "metadata": {},
   "outputs": [
    {
     "name": "stdout",
     "output_type": "stream",
     "text": [
      "<class 'int'>\n",
      "<class 'function'>\n"
     ]
    }
   ],
   "source": [
    "#everytime you create something in python is an object of some kind of class\n",
    "x = 1\n",
    "print(type(x))\n",
    "\n",
    "\n",
    "def hello():\n",
    "    \n",
    "    print(\"hello\")\n",
    "print(type(hello))"
   ]
  },
  {
   "cell_type": "code",
   "execution_count": 7,
   "metadata": {},
   "outputs": [
    {
     "ename": "TypeError",
     "evalue": "unsupported operand type(s) for +: 'int' and 'str'",
     "output_type": "error",
     "traceback": [
      "\u001b[1;31m---------------------------------------------------------------------------\u001b[0m",
      "\u001b[1;31mTypeError\u001b[0m                                 Traceback (most recent call last)",
      "\u001b[1;32m<ipython-input-7-ff8bf1fd4515>\u001b[0m in \u001b[0;36m<module>\u001b[1;34m\u001b[0m\n\u001b[0;32m      2\u001b[0m \u001b[0mx\u001b[0m \u001b[1;33m=\u001b[0m \u001b[1;36m1\u001b[0m\u001b[1;33m\u001b[0m\u001b[1;33m\u001b[0m\u001b[0m\n\u001b[0;32m      3\u001b[0m \u001b[0my\u001b[0m \u001b[1;33m=\u001b[0m \u001b[1;34m\"hello\"\u001b[0m\u001b[1;33m\u001b[0m\u001b[1;33m\u001b[0m\u001b[0m\n\u001b[1;32m----> 4\u001b[1;33m \u001b[0mprint\u001b[0m\u001b[1;33m(\u001b[0m\u001b[0mx\u001b[0m \u001b[1;33m+\u001b[0m \u001b[0my\u001b[0m\u001b[1;33m)\u001b[0m\u001b[1;33m\u001b[0m\u001b[1;33m\u001b[0m\u001b[0m\n\u001b[0m",
      "\u001b[1;31mTypeError\u001b[0m: unsupported operand type(s) for +: 'int' and 'str'"
     ]
    }
   ],
   "source": [
    "#error on object of two types, because there is an operrand, to do this you can do print(x,y)\n",
    "x = 1\n",
    "y = \"hello\"\n",
    "print(x + y)"
   ]
  },
  {
   "cell_type": "markdown",
   "metadata": {},
   "source": [
    "Methods"
   ]
  },
  {
   "cell_type": "code",
   "execution_count": 9,
   "metadata": {},
   "outputs": [
    {
     "name": "stdout",
     "output_type": "stream",
     "text": [
      "HELLO\n"
     ]
    }
   ],
   "source": [
    "# everytime you use . after a variable, that is called a method. method ends with () which usually have\n",
    "# an argument inside\n",
    "# using .upper() on for say x = 1 would be an error since this object is an int, and an object in int\n",
    "# doenst have a .upper() method\n",
    "# different method can be applied based on the type of class\n",
    "string = \"hello\"\n",
    "print(string.upper())"
   ]
  },
  {
   "cell_type": "markdown",
   "metadata": {},
   "source": [
    "Creating a Class"
   ]
  },
  {
   "cell_type": "code",
   "execution_count": 31,
   "metadata": {},
   "outputs": [
    {
     "name": "stdout",
     "output_type": "stream",
     "text": [
      "bark\n"
     ]
    },
    {
     "data": {
      "text/plain": [
       "'My name is Ivan'"
      ]
     },
     "execution_count": 31,
     "metadata": {},
     "output_type": "execute_result"
    }
   ],
   "source": [
    "# here we created a class dog, means that we created a blueprint of object that are under class dog\n",
    "# or operations that a dog can do, it can be bark, jump, etc.\n",
    "# method are functions that goes inside a class, usually have a parameter (self)\n",
    "class Dog:\n",
    "    def bark(self):\n",
    "        print(\"bark\")\n",
    "\n",
    "    def get_name(self, x):\n",
    "        return \"My name is \" + x\n",
    "\n",
    "d = Dog() #assigning instance of a class Dog, meaning that d is an object of type Dog\n",
    "# print(type(d))\n",
    "# will output <class '__main__.Dog'>, meaning that d is under the scope of main operation of class Dog\n",
    "d.bark() # -> uses the method (function inside class dog) for the operation of a dog\n",
    "d.get_name(\"Ivan\") # -> can also take arguments or parameters, meaning that if the method needs an argument\n",
    "               # you need to pass values when calling the method in order to use it\n"
   ]
  },
  {
   "cell_type": "code",
   "execution_count": 32,
   "metadata": {},
   "outputs": [],
   "source": [
    "class Dog:\n",
    "    def __init__(self, name): # creating an attribute for the class\n",
    "        self.name = name      # everytime you create dog instance, you can store a specific per instance\n",
    "\n",
    "    def bark(self):\n",
    "        print(\"bark\")\n",
    "\n",
    "    def get_name(self):\n",
    "        self.name\n",
    "\n",
    "d = Dog(\"kate\")\n",
    "d2 = Dog(\"Ivan\")\n"
   ]
  },
  {
   "cell_type": "code",
   "execution_count": null,
   "metadata": {},
   "outputs": [],
   "source": []
  }
 ],
 "metadata": {
  "kernelspec": {
   "display_name": "Python 3.8.8 ('base')",
   "language": "python",
   "name": "python3"
  },
  "language_info": {
   "codemirror_mode": {
    "name": "ipython",
    "version": 3
   },
   "file_extension": ".py",
   "mimetype": "text/x-python",
   "name": "python",
   "nbconvert_exporter": "python",
   "pygments_lexer": "ipython3",
   "version": "3.8.8"
  },
  "orig_nbformat": 4,
  "vscode": {
   "interpreter": {
    "hash": "88279d2366fe020547cde40dd65aa0e3aa662a6ec1f3ca12d88834876c85e1a6"
   }
  }
 },
 "nbformat": 4,
 "nbformat_minor": 2
}
